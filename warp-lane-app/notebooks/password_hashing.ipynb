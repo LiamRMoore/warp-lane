{
 "cells": [
  {
   "cell_type": "code",
   "execution_count": 1,
   "metadata": {},
   "outputs": [
    {
     "data": {
      "text/plain": [
       "b'$2b$12$mXVEn3cew.DdvLQ1JRzYuuQ9HIf2MD.Ag5ta6YDwzsSzPVsYMHO62'"
      ]
     },
     "execution_count": 1,
     "metadata": {},
     "output_type": "execute_result"
    }
   ],
   "source": [
    "import bcrypt\n",
    "bcrypt.hashpw('userPlainTextPassword'.encode(), bcrypt.gensalt())"
   ]
  },
  {
   "cell_type": "code",
   "execution_count": 11,
   "metadata": {},
   "outputs": [
    {
     "name": "stdout",
     "output_type": "stream",
     "text": [
      "efweofkw;kjfwef\n",
      "valid\n"
     ]
    }
   ],
   "source": [
    "# password = userInput\n",
    "password = input()\n",
    "hashAndSalt = bcrypt.hashpw(password.encode(), bcrypt.gensalt())\n",
    "# save \"hashAndSalt\" in data base\n",
    "\n",
    "# To check:\n",
    "# password = userInput\n",
    "valid = bcrypt.checkpw(password.encode(), hashAndSalt)\n",
    "print(\"valid\" if valid else \"invalid\")"
   ]
  },
  {
   "cell_type": "code",
   "execution_count": 12,
   "metadata": {},
   "outputs": [
    {
     "data": {
      "text/plain": [
       "b'efweofkw;kjfwef'"
      ]
     },
     "execution_count": 12,
     "metadata": {},
     "output_type": "execute_result"
    }
   ],
   "source": [
    "password.encode()"
   ]
  },
  {
   "cell_type": "code",
   "execution_count": null,
   "metadata": {},
   "outputs": [],
   "source": [
    "def get_api_session()"
   ]
  }
 ],
 "metadata": {
  "kernelspec": {
   "display_name": "Python [conda env:warplane-dev] *",
   "language": "python",
   "name": "conda-env-warplane-dev-py"
  },
  "language_info": {
   "codemirror_mode": {
    "name": "ipython",
    "version": 3
   },
   "file_extension": ".py",
   "mimetype": "text/x-python",
   "name": "python",
   "nbconvert_exporter": "python",
   "pygments_lexer": "ipython3",
   "version": "3.8.5"
  }
 },
 "nbformat": 4,
 "nbformat_minor": 4
}
