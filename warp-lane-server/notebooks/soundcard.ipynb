{
 "cells": [
  {
   "cell_type": "code",
   "execution_count": 1,
   "metadata": {},
   "outputs": [],
   "source": [
    "import time\n",
    "\n",
    "import sounddevice as sd\n",
    "import wave\n",
    "import soundcard as sc\n",
    "import numpy\n",
    "import pyaudio\n",
    "\n",
    "from pathlib import Path\n",
    "from concurrent.futures import ThreadPoolExecutor\n",
    "\n",
    "from distributed import Client\n",
    "from scipy.io import wavfile\n",
    "\n",
    "wav_in_path = Path('../media/clip_6.wav')\n",
    "fs_wav, wav_arr = wavfile.read(wav_in_path)\n",
    "\n",
    "executor = ThreadPoolExecutor()"
   ]
  },
  {
   "cell_type": "markdown",
   "metadata": {},
   "source": [
    "# Soundcard"
   ]
  },
  {
   "cell_type": "code",
   "execution_count": 2,
   "metadata": {},
   "outputs": [
    {
     "name": "stdout",
     "output_type": "stream",
     "text": [
      "Speakers:\n",
      "<Speaker Built-in Audio Analog Stereo (2 channels)>\n",
      "<Speaker SteelSeries Arctis 7 Analog Mono (1 channels)>\n",
      "<Speaker SteelSeries Arctis 7 Analog Stereo (2 channels)>\n",
      "<Speaker Komplete Audio 6 Analog Surround 2.1 (3 channels)>\n",
      "\n",
      "Default speaker is: <Speaker SteelSeries Arctis 7 Analog Stereo (2 channels)>\n",
      "\n",
      "Microphones:\n",
      "<Microphone Built-in Audio Analog Stereo (2 channels)>\n",
      "<Microphone SteelSeries Arctis 7 Analog Mono (1 channels)>\n",
      "<Microphone Komplete Audio 6 Multichannel (6 channels)>\n",
      "\n",
      "Default mic is: <Microphone Komplete Audio 6 Multichannel (6 channels)>\n",
      "\n"
     ]
    }
   ],
   "source": [
    "# get a list of all speakers:\n",
    "speakers = sc.all_speakers()\n",
    "print(\"Speakers:\")\n",
    "for s in speakers:\n",
    "    print(s)\n",
    "# get the current default speaker on your system:\n",
    "default_speaker = sc.default_speaker()\n",
    "print(f\"\\nDefault speaker is: {default_speaker}\\n\")\n",
    "\n",
    "# get a list of all microphones:\n",
    "mics = sc.all_microphones()\n",
    "print(\"Microphones:\")\n",
    "for m in mics:\n",
    "    print(m)\n",
    "# get the current default microphone on your system:\n",
    "default_mic = sc.default_microphone()\n",
    "print(f\"\\nDefault mic is: {default_mic}\\n\")\n",
    "\n",
    "# search for a sound card by substring:\n",
    "headphone_speaker = sc.get_speaker('Mono')\n",
    "headphone_mic = sc.get_microphone('Mono')\n",
    "\n",
    "komplete_input = sc.get_microphone('Komplete')\n",
    "komplete_output = sc.get_speaker('Komplete')"
   ]
  },
  {
   "cell_type": "code",
   "execution_count": 3,
   "metadata": {},
   "outputs": [
    {
     "data": {
      "text/plain": [
       "<Microphone Komplete Audio 6 Multichannel (6 channels)>"
      ]
     },
     "execution_count": 3,
     "metadata": {},
     "output_type": "execute_result"
    }
   ],
   "source": [
    "komplete_input"
   ]
  },
  {
   "cell_type": "code",
   "execution_count": 4,
   "metadata": {},
   "outputs": [
    {
     "data": {
      "text/plain": [
       "<Speaker Komplete Audio 6 Analog Surround 2.1 (3 channels)>"
      ]
     },
     "execution_count": 4,
     "metadata": {},
     "output_type": "execute_result"
    }
   ],
   "source": [
    "komplete_output"
   ]
  },
  {
   "cell_type": "code",
   "execution_count": 5,
   "metadata": {},
   "outputs": [],
   "source": [
    "with komplete_input.recorder(samplerate=44100, channels=[4,5]) as input_, \\\n",
    "     komplete_output.player(samplerate=44100, channels=[0,1]) as output_:\n",
    "    executor.submit(output_.play(wav_arr))\n",
    "    data = executor.submit(input_.record, numframes=wav_arr.shape[0])\n",
    "\n",
    "mod_wav_arr = data.result()"
   ]
  },
  {
   "cell_type": "code",
   "execution_count": null,
   "metadata": {},
   "outputs": [],
   "source": []
  },
  {
   "cell_type": "code",
   "execution_count": 6,
   "metadata": {},
   "outputs": [
    {
     "data": {
      "text/plain": [
       "0.00022334074"
      ]
     },
     "execution_count": 6,
     "metadata": {},
     "output_type": "execute_result"
    }
   ],
   "source": [
    "mod_wav_arr.max()"
   ]
  },
  {
   "cell_type": "code",
   "execution_count": null,
   "metadata": {},
   "outputs": [],
   "source": [
    "with headphone_speaker.player(samplerate=44_100, channels=2) as sp:\n",
    "    sp.play(mod_wav_arr*3000)"
   ]
  },
  {
   "cell_type": "code",
   "execution_count": 20,
   "metadata": {},
   "outputs": [],
   "source": [
    "mod_wav_arr = data.result()"
   ]
  },
  {
   "cell_type": "code",
   "execution_count": 21,
   "metadata": {},
   "outputs": [
    {
     "data": {
      "text/plain": [
       "7.461679e-05"
      ]
     },
     "execution_count": 21,
     "metadata": {},
     "output_type": "execute_result"
    }
   ],
   "source": [
    "mod_wav_arr.max()"
   ]
  },
  {
   "cell_type": "code",
   "execution_count": null,
   "metadata": {},
   "outputs": [],
   "source": [
    "wav_arr"
   ]
  },
  {
   "cell_type": "code",
   "execution_count": null,
   "metadata": {},
   "outputs": [],
   "source": [
    "mod_wav_arr.max()"
   ]
  },
  {
   "cell_type": "code",
   "execution_count": null,
   "metadata": {},
   "outputs": [],
   "source": [
    "wav_arr"
   ]
  },
  {
   "cell_type": "code",
   "execution_count": null,
   "metadata": {},
   "outputs": [],
   "source": [
    "data.shape"
   ]
  },
  {
   "cell_type": "code",
   "execution_count": null,
   "metadata": {},
   "outputs": [],
   "source": []
  },
  {
   "cell_type": "code",
   "execution_count": null,
   "metadata": {},
   "outputs": [],
   "source": [
    "one_mic"
   ]
  },
  {
   "cell_type": "code",
   "execution_count": null,
   "metadata": {},
   "outputs": [],
   "source": [
    "one_speaker"
   ]
  },
  {
   "cell_type": "code",
   "execution_count": null,
   "metadata": {},
   "outputs": [],
   "source": [
    "speakers[1]"
   ]
  },
  {
   "cell_type": "code",
   "execution_count": null,
   "metadata": {},
   "outputs": [],
   "source": [
    "\n",
    "\n",
    "# alternatively, get a `Recorder` and `Player` object\n",
    "# and play or record continuously:\n",
    "#with mics[1].recorder(samplerate=48000) as mic, \\\n",
    "#      speakers[1].player(samplerate=48000) as sp:\n",
    "#    for _ in range(100):\n",
    "#        data = mic.record(numframes=1024)\n",
    "#        sp.play(data)"
   ]
  },
  {
   "cell_type": "code",
   "execution_count": null,
   "metadata": {},
   "outputs": [],
   "source": [
    "#data = data * 20"
   ]
  },
  {
   "cell_type": "code",
   "execution_count": null,
   "metadata": {},
   "outputs": [],
   "source": [
    "with speakers[1].player(samplerate=48_000) as sp:\n",
    "    sp.play(data)"
   ]
  },
  {
   "cell_type": "markdown",
   "metadata": {},
   "source": [
    "# pyaudio"
   ]
  },
  {
   "cell_type": "markdown",
   "metadata": {},
   "source": [
    "3 in on soundcard -> L out (left output blackbox)\n",
    "4 in on soundcard -> R out (left output blackbox)\n",
    "3 out on soundcard -> L in (left output blackbox)\n",
    "4 out on soundcard -> R in (right input blackbox - MONO)\n",
    "\n",
    "\n",
    "wav file goes out outputs of soundcard (in DAW) -> cables -> input of black box -> modification -> output of black box -> input of sound card"
   ]
  },
  {
   "cell_type": "code",
   "execution_count": 7,
   "metadata": {},
   "outputs": [
    {
     "name": "stdout",
     "output_type": "stream",
     "text": [
      "Input Device id  6  -  SteelSeries Arctis 7: USB Audio (hw:1,0)\n"
     ]
    }
   ],
   "source": [
    "p = pyaudio.PyAudio()\n",
    "info = p.get_host_api_info_by_index(0)\n",
    "numdevices = info.get('deviceCount')\n",
    "for i in range(0, numdevices):\n",
    "        if (p.get_device_info_by_host_api_device_index(0, i).get('maxInputChannels')) > 0:\n",
    "            print(\"Input Device id \", i, \" - \", p.get_device_info_by_host_api_device_index(0, i).get('name'))"
   ]
  },
  {
   "cell_type": "code",
   "execution_count": null,
   "metadata": {},
   "outputs": [],
   "source": [
    "\"\"\"\n",
    "PyAudio Example: Make a wire between input and output (i.e., record a\n",
    "few samples and play them back immediately).\n",
    "\n",
    "This is the callback (non-blocking) version.\n",
    "\"\"\"\n",
    "\n",
    "WIDTH = 2\n",
    "CHANNELS = wav_arr.shape[0]\n",
    "RATE = fs_wav\n",
    "\n",
    "p = pyaudio.PyAudio()"
   ]
  },
  {
   "cell_type": "code",
   "execution_count": null,
   "metadata": {},
   "outputs": [],
   "source": [
    "p"
   ]
  },
  {
   "cell_type": "code",
   "execution_count": null,
   "metadata": {},
   "outputs": [],
   "source": [
    "def callback(in_data, frame_count, time_info, status):\n",
    "    return (in_data, pyaudio.paContinue)\n",
    "\n",
    "stream = p.open(format=p.get_format_from_width(WIDTH),\n",
    "                channels=CHANNELS,\n",
    "                rate=RATE,\n",
    "                input=True,\n",
    "                output=True,\n",
    "                stream_callback=callback)"
   ]
  },
  {
   "cell_type": "code",
   "execution_count": null,
   "metadata": {},
   "outputs": [],
   "source": [
    "stream.start_stream()\n",
    "\n",
    "while stream.is_active():\n",
    "    time.sleep(0.1)\n",
    "\n",
    "stream.stop_stream()\n",
    "stream.close()\n",
    "\n",
    "p.terminate()"
   ]
  },
  {
   "cell_type": "code",
   "execution_count": null,
   "metadata": {},
   "outputs": [],
   "source": []
  },
  {
   "cell_type": "code",
   "execution_count": null,
   "metadata": {},
   "outputs": [],
   "source": []
  },
  {
   "cell_type": "code",
   "execution_count": null,
   "metadata": {},
   "outputs": [],
   "source": [
    "CHUNK = 1024 * 3  # Chunk is the bytes which are currently processed\n",
    "FORMAT = pyaudio.paInt16\n",
    "RATE = 44100\n",
    "RECORD_SECONDS = 2\n",
    "WAVE_OUTPUT = str(wav_in_path)\n",
    "p = pyaudio.PyAudio()\n",
    "stream = p.open(format=FORMAT,channels=6,rate=RATE,input=True,frames_per_buffer=CHUNK,input_device_index=4)\n",
    "\n",
    "frames = []  # np array storing all the data\n",
    "\n",
    "for i in range(0, int(RATE / CHUNK * RECORD_SECONDS)):\n",
    "    data = stream1.read(CHUNK)\n",
    "    frames.append(data1)\n",
    "\n",
    "\n",
    "\n",
    "\n",
    "stream.stop_stream()\n",
    "stream.close()\n",
    "p.terminate()\n",
    "\n",
    "wavef = wave.open(WAVE_OUTPUT, 'wb')  # opening the file\n",
    "wavef.setnchannels(1)\n",
    "wavef.setsampwidth(p.get_sample_size(FORMAT))\n",
    "wavef.setframerate(RATE)\n",
    "wavef.writeframes(b''.join(frames1))  # writing the data to be saved\n",
    "wavef.close()"
   ]
  },
  {
   "cell_type": "markdown",
   "metadata": {},
   "source": [
    "# Python SoundDevice"
   ]
  },
  {
   "cell_type": "code",
   "execution_count": null,
   "metadata": {},
   "outputs": [],
   "source": [
    "#!/usr/bin/env python3\n",
    "\"\"\"Pass input directly to output.\n",
    "\n",
    "https://app.assembla.com/spaces/portaudio/git/source/master/test/patest_wire.c\n",
    "\n",
    "\"\"\"\n",
    "print(sd.query_devices())"
   ]
  },
  {
   "cell_type": "code",
   "execution_count": null,
   "metadata": {},
   "outputs": [],
   "source": [
    "\n",
    "input_device = 8# numeric id or substring)\n",
    "output_device = 8# same\n",
    "channels = 2 # no. channels\n",
    "dtype = None# audio data type\n",
    "samplerate = 44100. #\n",
    "blocksize = 1024 #??\n",
    "latency = 0.001 #??\n"
   ]
  },
  {
   "cell_type": "code",
   "execution_count": null,
   "metadata": {},
   "outputs": [],
   "source": [
    "# steps:\n",
    "# 1. play wav file through soundcard output\n",
    "# 2. listen to and record soundcard input"
   ]
  },
  {
   "cell_type": "code",
   "execution_count": null,
   "metadata": {},
   "outputs": [],
   "source": [
    "\n",
    "def callback(indata, outdata, frames, time, status):\n",
    "    if status:\n",
    "        print(status)\n",
    "    outdata[:] = indata\n",
    "\n",
    "\n",
    "try:\n",
    "    with sd.Stream(device=(input_device, output_device),\n",
    "                   samplerate=samplerate, blocksize=blocksize,\n",
    "                   dtype=dtype, latency=latency,\n",
    "                   channels=channels, callback=callback):\n",
    "        print('#' * 80)\n",
    "        print('press Return to quit')\n",
    "        print('#' * 80)\n",
    "        input()\n",
    "except KeyboardInterrupt:\n",
    "    parser.exit('')\n",
    "except Exception as e:\n",
    "    parser.exit(type(e).__name__ + ': ' + str(e))"
   ]
  },
  {
   "cell_type": "markdown",
   "metadata": {},
   "source": [
    "# PYO?"
   ]
  },
  {
   "cell_type": "code",
   "execution_count": null,
   "metadata": {},
   "outputs": [],
   "source": []
  }
 ],
 "metadata": {
  "kernelspec": {
   "display_name": "Python [conda env:warplane] *",
   "language": "python",
   "name": "conda-env-warplane-py"
  },
  "language_info": {
   "codemirror_mode": {
    "name": "ipython",
    "version": 3
   },
   "file_extension": ".py",
   "mimetype": "text/x-python",
   "name": "python",
   "nbconvert_exporter": "python",
   "pygments_lexer": "ipython3",
   "version": "3.8.5"
  }
 },
 "nbformat": 4,
 "nbformat_minor": 4
}
