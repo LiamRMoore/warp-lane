{
 "cells": [
  {
   "cell_type": "markdown",
   "metadata": {},
   "source": [
    "# Check WaveNetRegressor works as expected"
   ]
  },
  {
   "cell_type": "code",
   "execution_count": 1,
   "metadata": {},
   "outputs": [],
   "source": [
    "import numpy as np\n",
    "import tensorflow as tf\n",
    "\n",
    "import warplane\n",
    "\n",
    "from warplane.ml.model import WaveNetRegressor\n",
    "\n",
    "assert tf.config.list_physical_devices('GPU')\n",
    "# need this for RTX 20XX series cards to avoid cuDNN errors...\n",
    "tf.config.experimental.set_memory_growth(tf.config.list_physical_devices('GPU')[0], True)"
   ]
  },
  {
   "cell_type": "code",
   "execution_count": 2,
   "metadata": {},
   "outputs": [],
   "source": [
    "# create tf model\n",
    "model = WaveNetRegressor(\n",
    "    n_filters=16,\n",
    "    kernel_size=3,\n",
    "    layer_max_dilation_factors=[12, 8, 4, 1]\n",
    ")"
   ]
  },
  {
   "cell_type": "code",
   "execution_count": 3,
   "metadata": {},
   "outputs": [],
   "source": [
    "# fake data with reasonable shape for audio signal (batch size of 8, 1 second (at 44.1kHz), 1 channel)\n",
    "test_audio = np.random.rand(8, 44100, 1)"
   ]
  },
  {
   "cell_type": "code",
   "execution_count": 4,
   "metadata": {},
   "outputs": [
    {
     "name": "stdout",
     "output_type": "stream",
     "text": [
      "WARNING:tensorflow:Layer WaveNetRegressor is casting an input tensor from dtype float64 to the layer's dtype of float32, which is new behavior in TensorFlow 2.  The layer has dtype float32 because it's dtype defaults to floatx.\n",
      "\n",
      "If you intended to run this layer in float32, you can safely ignore this warning. If in doubt, this warning is likely only an issue if you are porting a TensorFlow 1.X model to TensorFlow 2.\n",
      "\n",
      "To change all layers to have dtype float64 by default, call `tf.keras.backend.set_floatx('float64')`. To change just this layer, pass dtype='float64' to the layer constructor. If you are the author of this layer, you can disable autocasting by passing autocast=False to the base Layer constructor.\n",
      "\n"
     ]
    },
    {
     "data": {
      "text/plain": [
       "<tf.Tensor: shape=(8, 44100, 1), dtype=float32, numpy=\n",
       "array([[[-0.38442263],\n",
       "        [-0.05430339],\n",
       "        [-0.18872681],\n",
       "        ...,\n",
       "        [-0.350156  ],\n",
       "        [-0.02521252],\n",
       "        [ 0.03615267]],\n",
       "\n",
       "       [[-0.45911917],\n",
       "        [-0.5226304 ],\n",
       "        [-0.15535867],\n",
       "        ...,\n",
       "        [-0.17256624],\n",
       "        [-0.27600655],\n",
       "        [-0.09187762]],\n",
       "\n",
       "       [[-0.4074438 ],\n",
       "        [-0.05585013],\n",
       "        [-0.17125486],\n",
       "        ...,\n",
       "        [-0.22815733],\n",
       "        [-0.12114409],\n",
       "        [ 0.00219263]],\n",
       "\n",
       "       ...,\n",
       "\n",
       "       [[-0.0285363 ],\n",
       "        [-0.02800975],\n",
       "        [-0.43271214],\n",
       "        ...,\n",
       "        [ 0.07790905],\n",
       "        [-0.27616242],\n",
       "        [ 0.07959587]],\n",
       "\n",
       "       [[-0.27090776],\n",
       "        [-0.22487767],\n",
       "        [-0.28975415],\n",
       "        ...,\n",
       "        [-0.3421752 ],\n",
       "        [-0.11813244],\n",
       "        [-0.2739077 ]],\n",
       "\n",
       "       [[-0.16692907],\n",
       "        [-0.0637883 ],\n",
       "        [-0.02032064],\n",
       "        ...,\n",
       "        [-0.29709333],\n",
       "        [-0.10613036],\n",
       "        [-0.287816  ]]], dtype=float32)>"
      ]
     },
     "execution_count": 4,
     "metadata": {},
     "output_type": "execute_result"
    }
   ],
   "source": [
    "# perform forward pass\n",
    "model(test_audio)"
   ]
  },
  {
   "cell_type": "code",
   "execution_count": 5,
   "metadata": {},
   "outputs": [
    {
     "name": "stdout",
     "output_type": "stream",
     "text": [
      "Model: \"WaveNetRegressor\"\n",
      "_________________________________________________________________\n",
      "Layer (type)                 Output Shape              Param #   \n",
      "=================================================================\n",
      "conv1d (Conv1D)              multiple                  32        \n",
      "_________________________________________________________________\n",
      "conv1d_1 (Conv1D)            multiple                  544       \n",
      "_________________________________________________________________\n",
      "conv1d_2 (Conv1D)            multiple                  2112      \n",
      "_________________________________________________________________\n",
      "conv1d_3 (Conv1D)            multiple                  8320      \n",
      "_________________________________________________________________\n",
      "WaveNetResidualConvBlock_0 ( multiple                  19088     \n",
      "_________________________________________________________________\n",
      "WaveNetResidualConvBlock_1 ( multiple                  50720     \n",
      "_________________________________________________________________\n",
      "WaveNetResidualConvBlock_2 ( multiple                  102976    \n",
      "_________________________________________________________________\n",
      "WaveNetResidualConvBlock_3 ( multiple                  115072    \n",
      "_________________________________________________________________\n",
      "conv1d_4 (Conv1D)            multiple                  129       \n",
      "=================================================================\n",
      "Total params: 298,993\n",
      "Trainable params: 298,993\n",
      "Non-trainable params: 0\n",
      "_________________________________________________________________\n"
     ]
    }
   ],
   "source": [
    "model.summary()"
   ]
  },
  {
   "cell_type": "code",
   "execution_count": null,
   "metadata": {},
   "outputs": [],
   "source": []
  }
 ],
 "metadata": {
  "kernelspec": {
   "display_name": "Python [conda env:warplane-dev] *",
   "language": "python",
   "name": "conda-env-warplane-dev-py"
  },
  "language_info": {
   "codemirror_mode": {
    "name": "ipython",
    "version": 3
   },
   "file_extension": ".py",
   "mimetype": "text/x-python",
   "name": "python",
   "nbconvert_exporter": "python",
   "pygments_lexer": "ipython3",
   "version": "3.8.5"
  }
 },
 "nbformat": 4,
 "nbformat_minor": 4
}
