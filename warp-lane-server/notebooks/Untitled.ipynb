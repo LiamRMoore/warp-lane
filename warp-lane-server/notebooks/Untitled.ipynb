{
 "cells": [
  {
   "cell_type": "code",
   "execution_count": 1,
   "metadata": {},
   "outputs": [
    {
     "name": "stdout",
     "output_type": "stream",
     "text": [
      "Speakers:\n",
      "<Speaker Built-in Audio Analog Stereo (2 channels)>\n",
      "<Speaker SteelSeries Arctis 7 Analog Mono (1 channels)>\n",
      "<Speaker SteelSeries Arctis 7 Analog Stereo (2 channels)>\n",
      "<Speaker Komplete Audio 6 Analog Surround 2.1 (3 channels)>\n",
      "\n",
      "Default speaker is: <Speaker Komplete Audio 6 Analog Surround 2.1 (3 channels)>\n",
      "\n",
      "Microphones:\n",
      "<Microphone Built-in Audio Analog Stereo (2 channels)>\n",
      "<Microphone SteelSeries Arctis 7 Analog Mono (1 channels)>\n",
      "<Microphone Komplete Audio 6 Multichannel (6 channels)>\n",
      "\n",
      "Default mic is: <Microphone Komplete Audio 6 Multichannel (6 channels)>\n",
      "\n"
     ]
    }
   ],
   "source": [
    "import soundcard as sc\n",
    "import numpy\n",
    "\n",
    "# get a list of all speakers:\n",
    "speakers = sc.all_speakers()\n",
    "print(\"Speakers:\")\n",
    "for s in speakers:\n",
    "    print(s)\n",
    "# get the current default speaker on your system:\n",
    "default_speaker = sc.default_speaker()\n",
    "print(f\"\\nDefault speaker is: {default_speaker}\\n\")\n",
    "\n",
    "# get a list of all microphones:\n",
    "mics = sc.all_microphones()\n",
    "print(\"Microphones:\")\n",
    "for m in mics:\n",
    "    print(m)\n",
    "# get the current default microphone on your system:\n",
    "default_mic = sc.default_microphone()\n",
    "print(f\"\\nDefault mic is: {default_mic}\\n\")\n",
    "\n",
    "# search for a sound card by substring:\n",
    "one_speaker = sc.get_speaker('Mono')\n",
    "one_mic = sc.get_microphone('Mono')\n",
    "# fuzzy-search to get the same results:\n",
    "#one_speaker = sc.get_speaker('FS2i2')\n",
    "#one_mic = sc.get_microphone('FS2i2')#"
   ]
  },
  {
   "cell_type": "code",
   "execution_count": 2,
   "metadata": {},
   "outputs": [
    {
     "data": {
      "text/plain": [
       "<Microphone SteelSeries Arctis 7 Analog Mono (1 channels)>"
      ]
     },
     "execution_count": 2,
     "metadata": {},
     "output_type": "execute_result"
    }
   ],
   "source": [
    "mics[1]"
   ]
  },
  {
   "cell_type": "code",
   "execution_count": 3,
   "metadata": {},
   "outputs": [
    {
     "data": {
      "text/plain": [
       "<Microphone SteelSeries Arctis 7 Analog Mono (1 channels)>"
      ]
     },
     "execution_count": 3,
     "metadata": {},
     "output_type": "execute_result"
    }
   ],
   "source": [
    "one_mic"
   ]
  },
  {
   "cell_type": "code",
   "execution_count": 4,
   "metadata": {},
   "outputs": [
    {
     "data": {
      "text/plain": [
       "<Speaker SteelSeries Arctis 7 Analog Mono (1 channels)>"
      ]
     },
     "execution_count": 4,
     "metadata": {},
     "output_type": "execute_result"
    }
   ],
   "source": [
    "one_speaker"
   ]
  },
  {
   "cell_type": "code",
   "execution_count": 5,
   "metadata": {},
   "outputs": [
    {
     "data": {
      "text/plain": [
       "<Speaker SteelSeries Arctis 7 Analog Mono (1 channels)>"
      ]
     },
     "execution_count": 5,
     "metadata": {},
     "output_type": "execute_result"
    }
   ],
   "source": [
    "speakers[1]"
   ]
  },
  {
   "cell_type": "code",
   "execution_count": 3,
   "metadata": {},
   "outputs": [],
   "source": [
    "# record and play back one second of audio:\n",
    "data = one_mic.record(samplerate=48000, numframes=48000)\n",
    "one_speaker.play(data/numpy.max(data), samplerate=48000)\n",
    "\n",
    "# alternatively, get a `Recorder` and `Player` object\n",
    "# and play or record continuously:\n",
    "#with mics[1].recorder(samplerate=48000) as mic, \\\n",
    "#      speakers[1].player(samplerate=48000) as sp:\n",
    "#    for _ in range(100):\n",
    "#        data = mic.record(numframes=1024)\n",
    "#        sp.play(data)"
   ]
  },
  {
   "cell_type": "code",
   "execution_count": 12,
   "metadata": {},
   "outputs": [],
   "source": [
    "#data = data * 20"
   ]
  },
  {
   "cell_type": "code",
   "execution_count": null,
   "metadata": {},
   "outputs": [],
   "source": [
    "with speakers[1].player(samplerate=48_000) as sp:\n",
    "    sp.play(data)"
   ]
  },
  {
   "cell_type": "code",
   "execution_count": null,
   "metadata": {},
   "outputs": [],
   "source": []
  }
 ],
 "metadata": {
  "kernelspec": {
   "display_name": "Python [conda env:warplane] *",
   "language": "python",
   "name": "conda-env-warplane-py"
  },
  "language_info": {
   "codemirror_mode": {
    "name": "ipython",
    "version": 3
   },
   "file_extension": ".py",
   "mimetype": "text/x-python",
   "name": "python",
   "nbconvert_exporter": "python",
   "pygments_lexer": "ipython3",
   "version": "3.7.9"
  }
 },
 "nbformat": 4,
 "nbformat_minor": 4
}
